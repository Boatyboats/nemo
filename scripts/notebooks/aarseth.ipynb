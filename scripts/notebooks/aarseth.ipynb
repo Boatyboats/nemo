{
 "cells": [
  {
   "cell_type": "markdown",
   "id": "0b0acc08-6ce4-4c7a-abec-966e5abdf370",
   "metadata": {},
   "source": [
    "# The Aarseth NBODY family of codes (*drafting from Jan 28 - Feb 28*)\n",
    "\n",
    "With the \n",
    "[passing of Sverre Aarseth on Dec 28, 2024](https://ascl.net/wordpress/2025/01/07/sverre-aarseth-father-of-open-source-stellar-dynamics-has-passed-on-to-a-higher-orbit/),\n",
    "we remember him here by showcasing some examples of his legacy codes in NEMO.\n",
    "\n",
    "Sverre has always made his code available for anybody to use. His current body of work can still be found at https://people.ast.cam.ac.uk/~sverre/web/pages/nbody.htm  as well as an [entry in ASCL](https://ascl.net/1102.006).\n",
    "It should also be mentioned that many other derivate works exist. Would be nice to have a listing of those.\n",
    "NEMO is one such, and here we list the programs available in NEMO:\n",
    "\n",
    "* [nbody0, nbody00](https://teuben.github.io/nemo/man_html/nbody0.1.html) - version from Binney & Tremaine's \"Galactic Dynamics\" (1987) book, dubbed the Micky Mouse version by Sverre\n",
    "* [nbody1](https://teuben.github.io/nemo/man_html/nbody1.1.html), [runbody1](https://teuben.github.io/nemo/man_html/runbody1.1.html) - integrator with variable timestep\n",
    "* nbody2, runbody2 - Ahmad-Cohen N-body code\n",
    "* nbody4, runbody4 - hermite N-body code with optional stellar evolution\n",
    "* nbody5 - Regularized AC N-body code with triple & binary collisions (nbody6 now preferred)\n",
    "* nbody6, runbody6 - Hermite N-body code with optional stellar evolution\n",
    "* [firstn](https://teuben.github.io/nemo/man_html/firstn.1.html) -  von Hoerners first N-body code (1960)  \n",
    "* hermit\n",
    "* u4tos, stou4 - conversion programs of Sverre's \"UNIT4\" files to and from NEMO snapshot's\n",
    "* u3tos - conversion program of Sverre's \"UNIT3\" file to a NEMO snapshot\n",
    "* [mkplummer](https://teuben.github.io/nemo/man_html/mkplummer.1.html)  - create a Plummer (1911) N-Body sphere. Algorithm by [Aarseth, Henon and Wielen (1974)](https://ui.adsabs.harvard.edu/abs/1974A%26A....37..183A)\n",
    "* Sverre's 1999 paper [\"From NBODY1 to NBODY6: The Growth of an Industry\"](https://ui.adsabs.harvard.edu/abs/1999PASP..111.1333A) \n",
    "outlines the history behind this series.\n",
    "\n",
    "\n",
    "\n",
    "# Loading NEMO\n",
    "\n",
    "We start by loading NEMO in the shell.\n",
    "\n",
    "As a sanity check we first look to see if $NEMO exist. It should not, unless you shell defines NEMO already."
   ]
  },
  {
   "cell_type": "code",
   "execution_count": 1,
   "id": "66e47a6d-0b94-441e-8807-c96e623bda51",
   "metadata": {},
   "outputs": [
    {
     "name": "stdout",
     "output_type": "stream",
     "text": [
      "\n"
     ]
    }
   ],
   "source": [
    "# check to see if NEMO exists\n",
    "echo $NEMO"
   ]
  },
  {
   "cell_type": "code",
   "execution_count": 2,
   "id": "0febd3b4-f29f-4b33-a172-7779666b26ba",
   "metadata": {},
   "outputs": [],
   "source": [
    "# load NEMO    (your location will likely differ).\n",
    "source $HOME/NEMO/nemo/nemo_start.sh"
   ]
  },
  {
   "cell_type": "code",
   "execution_count": 3,
   "id": "e4f990a4-3b64-4ce6-87cb-263e13b5ab02",
   "metadata": {},
   "outputs": [
    {
     "name": "stdout",
     "output_type": "stream",
     "text": [
      "NEMO:        /home/teuben/NEMO/nemo  - Version:4.5.2\n",
      "YAPP:        /xs - default yapp plotting device\n",
      "git:         Branch:master     Counter:12420      Date: 2025/02/27_21:49:33\n",
      "python:      /home/teuben/NEMO/nemo/anaconda3/bin/python  - Python 3.12.4\n",
      "OS_release:  Linux Description:\tPop!_OS 22.04 LTS\n"
     ]
    }
   ],
   "source": [
    "# show NEMO and some related things\n",
    "nemo"
   ]
  },
  {
   "cell_type": "markdown",
   "id": "1fa4e12e-c27c-4dfa-b80d-e555c77225e2",
   "metadata": {},
   "source": [
    "### Plotting ?\n",
    "\n",
    "A minor nuisance of using a bash notebook instead of a python notebook is that you cannot produce the typical interactive matplotlib plots. If we compile NEMO with yapp_pgplot, plots can be saved in **png** format and markdown cells can load them after the cell was executed"
   ]
  },
  {
   "cell_type": "markdown",
   "id": "4f6c80e3-688b-4b95-be5b-d8cbf8fb0d98",
   "metadata": {},
   "source": [
    "# nbody0, nbody00, nbody0_ff, nbody0h4\n",
    "\n",
    "This code was published in an Appendix of the 1987 (first) edition of Binney & Tremaine's *Galactic Dynamics*. The code\n",
    "can be found in \n",
    "**$NEMO/src/nbody/evolve/aarseth/nbody0**, where several derivatives of this *Micky Mouse* (Sverre's words) version are available. We have a NEMO [manual page](https://teuben.github.io/nemo/man_html/nbody0.1.html) available, which you can also access from the command line with the `man nbody0` command:"
   ]
  },
  {
   "cell_type": "code",
   "execution_count": 4,
   "id": "aee511ff-a61e-4497-8111-e5ab2ea18bcd",
   "metadata": {},
   "outputs": [],
   "source": [
    "# man nbody0"
   ]
  },
  {
   "cell_type": "markdown",
   "id": "76d7e27d-c05b-47ae-8ad1-3be1597c6fc4",
   "metadata": {},
   "source": [
    "### Creating initial conditions\n",
    "\n",
    "By default the FORTRAN code is compiled with space for a maximum of 2048 particles. We thus create a Plummer (1911) sphere with 2048 particles. We fix the seed to have reproducible results, and integrate a few crossing times to keep the CPU loaded for a few seconds."
   ]
  },
  {
   "cell_type": "code",
   "execution_count": 5,
   "id": "47a0a006-b7ac-4c9e-88c3-64e9f99a5f62",
   "metadata": {},
   "outputs": [
    {
     "name": "stdout",
     "output_type": "stream",
     "text": [
      "char Headline[28] \"init_xrandom: seed used 123\"\n",
      "char History[43] \"mkplummer p2048 2048 seed=123 VERSION=3.0c\"\n",
      "set SnapShot\n",
      "  set Parameters\n",
      "    int Nobj 2048 \n",
      "    double Time 0.00000 \n",
      "  tes\n",
      "  set Particles\n",
      "    int CoordSystem 66306 \n",
      "    double Mass[2048] 0.000488281 0.000488281 0.000488281 0.000488281 \n",
      "      0.000488281 0.000488281 0.000488281 0.000488281 0.000488281 \n",
      "      0.000488281 0.000488281 0.000488281 0.000488281 0.000488281 \n",
      "      0.000488281 0.000488281 0.000488281 0.000488281 0.000488281 \n",
      "      . . .\n",
      "    double PhaseSpace[2048][2][3] -0.570453 -0.0544111 -0.627691 \n",
      "      -0.0761437 -0.0984996 0.337867 4.84828 -0.318906 -1.70248 \n",
      "      0.419009 0.228663 0.171499 0.584347 0.246823 -0.113503 0.0872366 \n",
      "      0.00176906 -0.340730 0.416242 -0.0460422 -0.188560 -0.739448 \n",
      "      . . .\n",
      "  tes\n",
      "tes\n"
     ]
    }
   ],
   "source": [
    "rm -f p2048\n",
    "mkplummer p2048 2048 seed=123\n",
    "tsf p2048"
   ]
  },
  {
   "cell_type": "markdown",
   "id": "06ff1c6d-5a36-4182-9624-95e7ba744193",
   "metadata": {},
   "source": [
    "### Comparing FORTRAN and C versions\n",
    "\n",
    "We first compare the performance of the FORTRAN and C versions. We use **out=.** to not have to write an output file, perhaps saving some overhead. Using a *dot* for a filename is a NEMO feature.\n",
    "The default integration time **tcrit=2** is used."
   ]
  },
  {
   "cell_type": "code",
   "execution_count": 6,
   "id": "c9609d60-5891-4cb0-a239-0c6972cbbae2",
   "metadata": {
    "scrolled": true
   },
   "outputs": [
    {
     "name": "stdout",
     "output_type": "stream",
     "text": [
      "### nemo Debug Info: time = 0   steps = 0   energy = -0.244373 cpu =    0.00183 min\n",
      "### nemo Debug Info: time = 0.25   steps = 19181   energy = -0.244375 cpu =    0.00567 min\n",
      "### nemo Debug Info: time = 0.5   steps = 39859   energy = -0.244383 cpu =    0.00983 min\n",
      "### nemo Debug Info: time = 0.75   steps = 60485   energy = -0.244384 cpu =     0.0137 min\n",
      "### nemo Debug Info: time = 1   steps = 80889   energy = -0.244386 cpu =     0.0178 min\n",
      "### nemo Debug Info: time = 1.25   steps = 100950   energy = -0.244386 cpu =     0.0218 min\n",
      "### nemo Debug Info: time = 1.5   steps = 121284   energy = -0.244389 cpu =     0.0258 min\n",
      "### nemo Debug Info: time = 1.75   steps = 141176   energy = -0.244396 cpu =     0.0295 min\n",
      "### nemo Debug Info: time = 2   steps = 161238   energy = -0.244397 cpu =     0.0335 min\n",
      "2.01user 0.00system 0:02.01elapsed 99%CPU (0avgtext+0avgdata 2856maxresident)k\n",
      "0inputs+0outputs (0major+330minor)pagefaults 0swaps\n",
      "### nemo Debug Info: time = 0   steps = 0   energy = -0.244373 cpu =    0.00183 min\n",
      "### nemo Debug Info: time = 0.25   steps = 19181   energy = -0.244375 cpu =     0.0065 min\n",
      "### nemo Debug Info: time = 0.5   steps = 39859   energy = -0.244383 cpu =      0.011 min\n",
      "### nemo Debug Info: time = 0.75   steps = 60485   energy = -0.244384 cpu =      0.016 min\n",
      "### nemo Debug Info: time = 1   steps = 80889   energy = -0.244386 cpu =     0.0208 min\n",
      "### nemo Debug Info: time = 1.25   steps = 100950   energy = -0.244386 cpu =      0.026 min\n",
      "### nemo Debug Info: time = 1.5   steps = 121284   energy = -0.244389 cpu =     0.0312 min\n",
      "### nemo Debug Info: time = 1.75   steps = 141176   energy = -0.244396 cpu =     0.0358 min\n",
      "### nemo Debug Info: time = 2   steps = 161238   energy = -0.244397 cpu =     0.0402 min\n",
      "### nemo Debug Info: Time spent in searching for next advancement: 0.54\n",
      "### nemo Debug Info: Energy conservation: -2.47054e-05 / -0.244373 = 0.000101087\n",
      "### nemo Debug Info: Time resets needed 0 times / 9 dumps\n",
      "2.41user 0.09system 0:02.50elapsed 100%CPU (0avgtext+0avgdata 2856maxresident)k\n",
      "0inputs+0outputs (0major+331minor)pagefaults 0swaps\n"
     ]
    }
   ],
   "source": [
    "/usr/bin/time nbody0  p2048 . tcrit=2   # Fortran version\n",
    "/usr/bin/time nbody00 p2048 . tcrit=2   # C version"
   ]
  },
  {
   "cell_type": "markdown",
   "id": "86ef0f50-6344-491d-8578-a4e13c14eecc",
   "metadata": {},
   "source": [
    "### Reproducability\n",
    "\n",
    "If NEMO's random number generator is working correctly, the number of steps and energy at time=2 should be exactly\n",
    "```\n",
    "   time = 2   steps = 161238   energy = -0.244397\n",
    "```\n",
    "and although the CPU time varies per machine, my 2023 \"Ultra 7 155H\" laptop CPU took about 1.7sec for **nbody0** and 2.0sec for **nbody00**. Also notable is that the C version does use a small amount (4%) of system time, whereas FORTRAN took 0. "
   ]
  },
  {
   "cell_type": "markdown",
   "id": "14849a05-f74a-49f3-b915-9cc55f9069bb",
   "metadata": {},
   "source": [
    "### nbody00_ff\n",
    "\n",
    "This pure FORTRAN version does not have a NEMO CLI. It reads a one line header with 6 numbers from stdin, followed by **n** (the number of bodies) lines containing the mass, position and velocity (7 values per line). The header contains **n,eta,deltat,tcrit,eps2,reset**.   Such an input file can be easily created using basic NEMO tools, which we show below."
   ]
  },
  {
   "cell_type": "code",
   "execution_count": 7,
   "id": "30e65f69-09c2-4ece-8e23-eef25839859f",
   "metadata": {},
   "outputs": [
    {
     "name": "stdout",
     "output_type": "stream",
     "text": [
      "### nemo Debug Info: m x y z vx vy vz \n",
      " Enter n,eta,deltat,tcrit,eps2,reset:\n",
      "      0.20        -1.62     -0.19     -0.08        -0.05     -0.31      0.28         0.0881       1\n",
      "      0.20         3.80     -0.46     -1.16         0.45      0.01      0.11         0.4797       2\n",
      "      0.20        -0.46      0.11      0.43         0.12     -0.21     -0.40         0.0343       3\n",
      "      0.20        -0.63     -0.19      0.36        -0.71      0.55     -0.18         0.0347       4\n",
      "      0.20        -1.08      0.73      0.46         0.19     -0.03      0.20         0.0815       5\n",
      "     time =   0.00  steps =     0 energy =   -0.1811\n",
      "\n",
      "      0.20        -1.46     -0.39      0.26         0.42      0.02      0.36         0.0416       1\n",
      "      0.20         4.23     -0.44     -1.04         0.42      0.02      0.12         0.4820       2\n",
      "      0.20        -1.16      0.06      0.09        -0.99      0.47     -0.08         0.0361       3\n",
      "      0.20        -0.82      0.44      0.27        -0.17      0.24      0.53         0.0099       4\n",
      "      0.20        -0.79      0.34      0.42         0.31     -0.74     -0.93         0.0102       5\n",
      "     time =   1.00  steps =   125 energy =   -0.1811\n",
      "\n",
      "      0.20        -0.78      0.04      0.34         0.81      0.48     -0.69         0.0195       1\n",
      "      0.20         4.64     -0.42     -0.92         0.40      0.02      0.12         1.0269       2\n",
      "      0.20        -1.72      0.42      0.23        -0.13      0.21      0.20         0.0713       3\n",
      "      0.20        -1.00     -0.24      0.26        -0.63     -0.18      0.10         0.0182       4\n",
      "      0.20        -1.13      0.20      0.09        -0.45     -0.53      0.27         0.0287       5\n",
      "     time =   2.00  steps =   315 energy =   -0.1811\n",
      "\n",
      "      0.20        -0.45      0.38     -0.35         0.10      0.26     -0.61         0.1075       1\n",
      "      0.20         5.03     -0.40     -0.80         0.38      0.02      0.13         0.3865       2\n",
      "      0.20        -1.52      0.29      0.41         0.38     -1.05      0.39         0.0058       3\n",
      "      0.20        -1.59      0.18      0.47        -0.46      0.88     -0.01         0.0054       4\n",
      "      0.20        -1.46     -0.45      0.26        -0.39     -0.12      0.10         0.0506       5\n",
      "     time =   3.00  steps =   698 energy =   -0.1812\n",
      "\n",
      "      0.20        -0.44      0.61     -0.88        -0.05      0.20     -0.47         0.1462       1\n",
      "      0.20         5.40     -0.38     -0.67         0.36      0.02      0.13         0.5662       2\n",
      "      0.20        -1.85     -0.03      0.57         0.25     -0.92     -0.57         0.0021       3\n",
      "      0.20        -1.29     -0.10      0.47        -0.18     -0.60      0.10         0.0471       4\n",
      "      0.20        -1.82     -0.09      0.51        -0.38      1.29      0.81         0.0021       5\n",
      "     time =   4.00  steps =   900 energy =   -0.1812\n",
      "\n",
      "      0.20        -0.52      0.78     -1.30        -0.11      0.15     -0.37         0.2659       1\n",
      "      0.20         5.75     -0.36     -0.54         0.34      0.02      0.13         0.9946       2\n",
      "      0.20        -1.55      0.10      0.38         0.19     -0.21      0.23         0.0519       3\n",
      "      0.20        -1.92     -0.34      0.64        -0.70      0.38      0.45         0.0204       4\n",
      "      0.20        -1.76     -0.18      0.82         0.28     -0.34     -0.43         0.0196       5\n",
      "     time =   5.00  steps =  1186 energy =   -0.1812\n",
      "\n",
      "      0.20        -0.65      0.91     -1.63        -0.15      0.11     -0.30         0.1796       1\n",
      "      0.20         6.08     -0.33     -0.41         0.33      0.03      0.13         0.5089       2\n",
      "      0.20        -1.94     -0.36      0.78        -0.87     -0.07      0.06         0.0333       3\n",
      "      0.20        -1.66     -0.04      0.74         0.48     -0.39     -0.55         0.0164       4\n",
      "      0.20        -1.83     -0.18      0.52         0.21      0.32      0.66         0.0171       5\n",
      "     time =   6.00  steps =  1315 energy =   -0.1812\n",
      "\n",
      "      0.20        -0.81      1.01     -1.90        -0.17      0.09     -0.24         0.4639       1\n",
      "      0.20         6.40     -0.31     -0.28         0.32      0.03      0.13         1.2083       2\n",
      "      0.20        -2.15     -0.32      0.85        -0.53     -0.10      0.36         0.0245       3\n",
      "      0.20        -2.14     -0.09      0.61         0.20      0.27     -0.17         0.0233       4\n",
      "      0.20        -1.30     -0.29      0.72         0.18     -0.29     -0.08         0.0595       5\n",
      "     time =   7.00  steps =  1590 energy =   -0.1812\n",
      "\n",
      "      0.20        -0.98      1.08     -2.12        -0.18      0.06     -0.19         0.3726       1\n",
      "      0.20         6.71     -0.28     -0.15         0.30      0.03      0.13         1.7834       2\n",
      "      0.20        -2.31     -0.11      0.81         0.55      0.32     -0.32         0.0143       3\n",
      "      0.20        -2.08     -0.17      0.82        -0.44     -0.26      0.45         0.0139       4\n",
      "      0.20        -1.33     -0.52      0.63        -0.23     -0.15     -0.07         0.1313       5\n",
      "     time =   8.00  steps =  1655 energy =   -0.1812\n",
      "\n",
      "      0.20        -1.17      1.14     -2.29        -0.19      0.04     -0.15         0.4863       1\n",
      "      0.20         7.01     -0.25     -0.01         0.29      0.03      0.13         1.7834       2\n",
      "      0.20        -2.15     -0.28      0.95         0.14      0.10     -0.26         0.0380       3\n",
      "      0.20        -1.90     -0.08      0.72         0.48     -0.44      0.15         0.0293       4\n",
      "      0.20        -1.79     -0.52      0.63        -0.73      0.26      0.13         0.0289       5\n",
      "     time =   9.00  steps =  1802 energy =   -0.1812\n",
      "\n",
      "      0.20        -1.36      1.17     -2.42        -0.20      0.02     -0.10         0.5768       1\n",
      "      0.20         7.30     -0.23      0.12         0.28      0.03      0.13         0.9696       2\n",
      "      0.20        -2.39     -0.46      0.73        -0.23      0.08     -0.43         0.0119       3\n",
      "      0.20        -2.23     -0.47      0.72        -0.73     -0.27      0.38         0.0106       4\n",
      "      0.20        -1.32     -0.02      0.85         0.87      0.14      0.02         0.0620       5\n",
      "     time =  10.00  steps =  2351 energy =   -0.1813\n",
      "\n",
      "### nemo Debug Info: x y z vx vy vz \n",
      "### nemo Debug Info: time = 0   steps = 0   energy = -0.181136 cpu =          0 min\n",
      "### nemo Debug Info: time = 1   steps = 125   energy = -0.18114 cpu =          0 min\n",
      "### nemo Debug Info: time = 2   steps = 315   energy = -0.181137 cpu =          0 min\n",
      "### nemo Debug Info: time = 3   steps = 698   energy = -0.181227 cpu =          0 min\n",
      "### nemo Debug Info: Using timefuzz=1e-05\n",
      "### nemo Debug Info: time = 4   steps = 900   energy = -0.181224 cpu =          0 min\n",
      "### nemo Debug Info: time = 5   steps = 1186   energy = -0.181229 cpu =          0 min\n",
      "### nemo Debug Info: time = 6   steps = 1315   energy = -0.181232 cpu =          0 min\n",
      "### nemo Debug Info: time = 7   steps = 1590   energy = -0.181231 cpu =          0 min\n",
      "### nemo Debug Info: time = 8   steps = 1655   energy = -0.181234 cpu =          0 min\n",
      "### nemo Debug Info: time = 9   steps = 1802   energy = -0.181237 cpu =          0 min\n",
      "### nemo Debug Info: time = 10   steps = 2351   energy = -0.181269 cpu =          0 min\n",
      "### nemo Debug Info: time = 10\tnpart =   1\tndiag =   0\toutputing particles\n",
      "### nemo Debug Info: copy_item: 4\n",
      "### nemo Debug Info: copy_item: 8\n",
      "### nemo Debug Info: copy_item: 4\n",
      "### nemo Debug Info: copy_item: 40\n",
      "### nemo Debug Info: copy_item: 240\n",
      "-1.36279 1.16632 -2.41738 -0.19854 0.021288 -0.104094 \n",
      "7.29869 -0.227201 0.116816 0.283669 0.0275029 0.13166 \n",
      "-2.38877 -0.457732 0.726767 -0.227988 0.0829789 -0.433205 \n",
      "-2.22922 -0.465448 0.721034 -0.727559 -0.272988 0.382557 \n",
      "-1.31639 -0.0168633 0.85151 0.87065 0.141302 0.0230623 \n"
     ]
    }
   ],
   "source": [
    "# create a fresh Plummer sphere with 5 particles, again with a fixed seed\n",
    "rm -f p5\n",
    "mkplummer p5 5 seed=123\n",
    "\n",
    "# convert the snapshot to the input file that nbody0_ff needs\n",
    "echo \"5 0.02 1.0 10 0.0001 1\" > input5\n",
    "snapprint p5 m,x,y,z,vx,vy,vz format=%.15g >> input5\n",
    "\n",
    "# run nbody0_ff\n",
    "nbody0_ff < input5 \n",
    "\n",
    "# run nbody0, and compare the phase space coordinated at times=10\n",
    "nbody0 p5 - deltat=1 eps=0.01 tcrit=10 | snaptrim - - times=10 | snapprint -"
   ]
  },
  {
   "cell_type": "markdown",
   "id": "2fcca10f-1e5d-4977-a1bb-0f975f3e55a8",
   "metadata": {},
   "source": [
    "Did you see something like this?\n",
    "```\n",
    "-1.36279 1.16632 -2.41738 -0.19854 0.021288 -0.104094 \n",
    "7.29869 -0.227201 0.116816 0.283669 0.0275029 0.13166 \n",
    "-2.38877 -0.457732 0.726767 -0.227988 0.0829789 -0.433205 \n",
    "-2.22922 -0.465448 0.721034 -0.727559 -0.272988 0.382557 \n",
    "-1.31639 -0.0168633 0.85151 0.87065 0.141302 0.0230623\n",
    "```\n",
    "if so, then it's reproducable."
   ]
  },
  {
   "cell_type": "markdown",
   "id": "82c27183-5e94-43d2-b4c2-2b44a93c610e",
   "metadata": {},
   "source": [
    "### Comparing nbody0 and nbody0_ff\n",
    "\n",
    "Apart from the limited accuracy that nbody0_ff shows, the comparison is excellent, as well as number of steps taken and the energy in the final snapshot:\n",
    "```\n",
    "     time = 10   steps = 2351   energy = -0.181269\n",
    "```"
   ]
  },
  {
   "cell_type": "markdown",
   "id": "6fc2c8ee-6e47-4d5e-9988-195a1307fb1c",
   "metadata": {},
   "source": [
    "# nbody1, runbody1\n",
    "\n",
    "This code is an official version from 1997, though minor updates have been tracked up to a 2019 fix for the KZ(15) parameter. Within NEMO the code lives in **$NEMO/src/nbody/evolve/aarseth/nbody1**\n",
    "\n",
    "This version also introduces the more formal *run* interface in NEMO to allow one to run legacy codes with a NEMO command line interface. It also includes conversion between NEMO's snapshots and NBODYx files (unit3, unit4)."
   ]
  },
  {
   "cell_type": "code",
   "execution_count": 8,
   "id": "340163de-36bd-4a5c-9f47-0bebf26b4047",
   "metadata": {},
   "outputs": [],
   "source": [
    "rm -f p128 \n",
    "mkplummer p128 128"
   ]
  },
  {
   "cell_type": "markdown",
   "id": "bca1e052-4667-4acd-8f5d-5e6df4eac264",
   "metadata": {
    "scrolled": true
   },
   "source": [
    "eta=0.1\n",
    "eps=0.1\n",
    "for n in 1 2 4 8 16 32 64; do\n",
    "nbody00 p128 . eta=$eta/$n eps=$eps\n",
    "done\n"
   ]
  },
  {
   "cell_type": "markdown",
   "id": "51b0cfe0-8b68-4fb8-90b7-84c086f88bdb",
   "metadata": {},
   "source": [
    "eta=0.02\n",
    "eps=0.1\n",
    "for n in 1 2 4 8 16 32 64; do\n",
    "nbody00 p128 . eta=$eta eps=$eps tcrit=$n\n",
    "done\n"
   ]
  },
  {
   "cell_type": "code",
   "execution_count": 9,
   "id": "4a05d0d6-3219-4db3-a011-9b64260f4a99",
   "metadata": {},
   "outputs": [
    {
     "name": "stdout",
     "output_type": "stream",
     "text": [
      "nbody00 p128 . eta= eps= tcrit=2\n"
     ]
    }
   ],
   "source": [
    "echo nbody00 p128 . eta=$eta eps=$eps tcrit=2"
   ]
  },
  {
   "cell_type": "code",
   "execution_count": null,
   "id": "7378361f-28d7-4edb-b645-70ffc14f5e8c",
   "metadata": {},
   "outputs": [],
   "source": [
    "\n",
    "\n",
    "\n"
   ]
  },
  {
   "cell_type": "markdown",
   "id": "19212aef-7a50-4d5e-8ee9-acee4d2c2078",
   "metadata": {},
   "source": [
    "# nbody2, runbody2\n",
    "\n",
    "There is a  [nbody2 manual page](https://teuben.github.io/nemo/man_html/nbody2.1.html) **and**\n",
    "[runbody2 manual page](https://teuben.github.io/nemo/man_html/runbody2.1.html) page available, but there is overlap between them that needs to be cleaned up."
   ]
  },
  {
   "cell_type": "markdown",
   "id": "dc2b4aeb-4352-41bb-a353-9f66e3de5808",
   "metadata": {},
   "source": [
    "## A Plummer sphere\n",
    "\n",
    "To create a Plummer (1911) sphere with 128 particles the **mkplummer** program is available.   \n",
    "\n"
   ]
  },
  {
   "cell_type": "code",
   "execution_count": 10,
   "id": "9caccf67-7ea6-4319-bb0a-71cebd7a7b0e",
   "metadata": {},
   "outputs": [],
   "source": [
    "rm -f p128 \n",
    "mkplummer p128 128"
   ]
  },
  {
   "cell_type": "markdown",
   "id": "0d05dabb-f4f2-42ec-a08c-b00becc4fb00",
   "metadata": {},
   "source": [
    "The contents is binary.  So viewing contents needs a program **tsf** (*type structured file*)"
   ]
  },
  {
   "cell_type": "code",
   "execution_count": 11,
   "id": "3ef8397c-1275-44db-a8b0-b7df102cd755",
   "metadata": {},
   "outputs": [
    {
     "name": "stdout",
     "output_type": "stream",
     "text": [
      "char Headline[35] \"init_xrandom: seed used 1741037008\"\n",
      "char History[32] \"mkplummer p128 128 VERSION=3.0c\"\n",
      "set SnapShot\n",
      "  set Parameters\n",
      "    int Nobj 128 \n",
      "    double Time 0.00000 \n",
      "  tes\n",
      "  set Particles\n",
      "    int CoordSystem 66306 \n",
      "    double Mass[128] 0.00781250 0.00781250 0.00781250 0.00781250 \n",
      "      0.00781250 0.00781250 0.00781250 0.00781250 0.00781250 \n",
      "      0.00781250 0.00781250 0.00781250 0.00781250 0.00781250 \n",
      "      0.00781250 0.00781250 0.00781250 0.00781250 0.00781250 \n",
      "      . . .\n",
      "    double PhaseSpace[128][2][3] -0.00381888 -0.00716898 0.0879361 \n",
      "      0.0662572 -0.380710 -0.730867 -4.51715 0.448376 1.87865 0.168227 \n",
      "      -0.356079 0.217536 1.24816 0.0749093 0.852374 -0.334941 \n",
      "      -0.0872645 -0.686696 -0.766248 0.0123900 0.712681 -0.265743 \n",
      "      . . .\n",
      "  tes\n",
      "tes\n"
     ]
    }
   ],
   "source": [
    "tsf p128"
   ]
  },
  {
   "cell_type": "markdown",
   "id": "667a562c-6729-4da1-b159-424163f8290d",
   "metadata": {},
   "source": [
    "In this way we show how nbody2 can important arbitrary data, although with certain options it can also create initial conditions from certain parameters."
   ]
  },
  {
   "cell_type": "markdown",
   "id": "b4549872-eb2b-4f37-8c92-c7d591388abe",
   "metadata": {},
   "source": [
    "# nbody4, runbody4\n",
    "\n",
    "Again, a [manual page](https://teuben.github.io/nemo/man_html/runbody4.1.html) is available"
   ]
  },
  {
   "cell_type": "markdown",
   "id": "b48e2ea9-d87f-4aa2-abab-92407aea029c",
   "metadata": {},
   "source": [
    "# nbody5\n",
    "\n",
    "Unlike other versions, this version does not yet have a **runbody5**, essentially because **nbody5** is not maintained, and **nbody6** should be used.  Yet, the manual page talks about a benchmark and it was fun to compare the performance with the numbers from 1995 when this was documented. Again, a [manual page](https://teuben.github.io/nemo/man_html/nbody5.1.html) is available"
   ]
  },
  {
   "cell_type": "code",
   "execution_count": 12,
   "id": "3e01e4f1-39d5-49d8-8ebd-1439ba1752ea",
   "metadata": {},
   "outputs": [],
   "source": [
    "# man nbody5"
   ]
  },
  {
   "cell_type": "markdown",
   "id": "8a79cbb1-29d9-40bc-8bfe-16bea5f6c5ab",
   "metadata": {},
   "source": [
    "# nbody6, runbody6\n",
    "\n",
    " Again, a [manual page](https://teuben.github.io/nemo/man_html/runbody6.1.html) is available"
   ]
  },
  {
   "cell_type": "code",
   "execution_count": 13,
   "id": "63d9eff9-c644-4c6d-8df7-8efcaf74ca31",
   "metadata": {},
   "outputs": [],
   "source": [
    "# man runbody6"
   ]
  },
  {
   "cell_type": "markdown",
   "id": "770deb5f-915c-48a2-ae7a-29e32fd25c8f",
   "metadata": {},
   "source": [
    "# Comparing nbody0, nbody1, nbody2, ...\n",
    "\n",
    "setting accurary of the integration (eta) very high, we can compare how well the different versions\n",
    "of the nbodyX family agree. Keep in mind a simple Plummer sphere with formally no binaries is the\n",
    "input dataset, we should not expect a real difference between the different codes."
   ]
  },
  {
   "cell_type": "markdown",
   "id": "79d534a0-913d-4142-833f-491c815d2ef9",
   "metadata": {},
   "source": [
    "### snippet of code\n",
    "```\n",
    "mkplummer nbody0.in 10 seed=123\n",
    "\n",
    "nbody00 nbody0.in nbody0.out tcrit=10 deltat=0.01 eta=0.001\n",
    "runbody1 nbody0.in nbody1.out tcrit=10 deltat=0.01 eta=0.001\n",
    "runbody2 nbody0.in nbody2.out tcrit=10 deltat=0.01 etai=0.001 etar=0.002\n",
    "u3tos nbody2.out/OUT3 nbody2.out/OUT3.snap\n",
    "\n",
    "for i in $(seq 0 9); do\n",
    "   echo \"Particle $i\"\n",
    "   snapmask nbody0.out           - $i | snapplot - trak=t yapp=1/xs\n",
    "   snapmask nbody1.out/OUT3.snap - $i | snapplot - trak=t yapp=2/xs\n",
    "   snapmask nbody2.out/OUT3.snap - $i | snapplot - trak=t yapp=3/xs\n",
    "   echo -n \"Enter to continue:\"; read line\n",
    "done\n",
    "```"
   ]
  },
  {
   "cell_type": "code",
   "execution_count": null,
   "id": "76daf6d0-65e4-47b6-8f32-cbe5b321f176",
   "metadata": {},
   "outputs": [],
   "source": []
  }
 ],
 "metadata": {
  "kernelspec": {
   "display_name": "Bash",
   "language": "bash",
   "name": "bash"
  },
  "language_info": {
   "codemirror_mode": "shell",
   "file_extension": ".sh",
   "mimetype": "text/x-sh",
   "name": "bash"
  }
 },
 "nbformat": 4,
 "nbformat_minor": 5
}
